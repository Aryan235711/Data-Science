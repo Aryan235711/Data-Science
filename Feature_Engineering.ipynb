{
 "cells": [
  {
   "cell_type": "markdown",
   "id": "1cebc2b0",
   "metadata": {},
   "source": [
    "## MISSING VALUES"
   ]
  },
  {
   "cell_type": "code",
   "execution_count": 1,
   "id": "09e9ad88",
   "metadata": {},
   "outputs": [],
   "source": [
    "import seaborn as sns\n",
    "import pandas as pd"
   ]
  },
  {
   "cell_type": "code",
   "execution_count": 30,
   "id": "d421ac27",
   "metadata": {},
   "outputs": [],
   "source": [
    "df = sns.load_dataset('titanic')\n",
    "# df.head()"
   ]
  },
  {
   "cell_type": "code",
   "execution_count": 31,
   "id": "e288f0c6",
   "metadata": {},
   "outputs": [
    {
     "data": {
      "text/plain": [
       "survived         0\n",
       "pclass           0\n",
       "sex              0\n",
       "age            177\n",
       "sibsp            0\n",
       "parch            0\n",
       "fare             0\n",
       "embarked         2\n",
       "class            0\n",
       "who              0\n",
       "adult_male       0\n",
       "deck           688\n",
       "embark_town      2\n",
       "alive            0\n",
       "alone            0\n",
       "dtype: int64"
      ]
     },
     "execution_count": 31,
     "metadata": {},
     "output_type": "execute_result"
    }
   ],
   "source": [
    "# To check null values\n",
    "df.isnull().sum()"
   ]
  },
  {
   "cell_type": "code",
   "execution_count": 7,
   "id": "0681cbe0",
   "metadata": {},
   "outputs": [
    {
     "data": {
      "text/plain": [
       "(891, 15)"
      ]
     },
     "execution_count": 7,
     "metadata": {},
     "output_type": "execute_result"
    }
   ],
   "source": [
    "df.shape"
   ]
  },
  {
   "cell_type": "code",
   "execution_count": null,
   "id": "46897e0a",
   "metadata": {},
   "outputs": [],
   "source": [
    "# we can drop these null values using dropna() method but it will remove the entire row which is not a good idea\n",
    "# Or we can drop the column which has a huge number of null values-df.drop(columns=['deck', 'embark_town', 'alive'], inplace=True)\n",
    "# Both of these methods are not good for our analysis"
   ]
  },
  {
   "cell_type": "markdown",
   "id": "807e09a4",
   "metadata": {},
   "source": [
    "# Imputation is a better way to handle null values. We can fill the null values with the mean, median, or mode of the column\n"
   ]
  },
  {
   "cell_type": "markdown",
   "id": "99de9212",
   "metadata": {},
   "source": [
    "# 1-Mean value imputauion"
   ]
  },
  {
   "cell_type": "code",
   "execution_count": 32,
   "id": "d660e67b",
   "metadata": {},
   "outputs": [],
   "source": [
    "# sns.displot(data=df, x= 'age', kde = True)\n",
    "# sns.histplot(df['age'], kde=True)"
   ]
  },
  {
   "cell_type": "code",
   "execution_count": 36,
   "id": "1dfa5564",
   "metadata": {},
   "outputs": [
    {
     "data": {
      "text/plain": [
       "<Axes: xlabel='age mean', ylabel='Count'>"
      ]
     },
     "execution_count": 36,
     "metadata": {},
     "output_type": "execute_result"
    },
    {
     "data": {
      "image/png": "[encoded data removed]",
      "text/plain": [
       "<Figure size 640x480 with 1 Axes>"
      ]
     },
     "metadata": {},
     "output_type": "display_data"
    }
   ],
   "source": [
    "# To fill 'age' missing values with its mean value\n",
    "df['age mean'] = df['age'].fillna(df['age'].mean())\n",
    "sns.histplot(df['age mean'], kde=True)\n"
   ]
  },
  {
   "cell_type": "code",
   "execution_count": 37,
   "id": "90ad4ebc",
   "metadata": {},
   "outputs": [],
   "source": [
    "# df.isnull().sum()\n",
    "# df.head(10)"
   ]
  },
  {
   "cell_type": "markdown",
   "id": "56cf8bcc",
   "metadata": {},
   "source": [
    "mean imputation works well when we have normally distributed data"
   ]
  },
  {
   "cell_type": "markdown",
   "id": "a05f2727",
   "metadata": {},
   "source": [
    "## 2- Median imputation\n",
    "\n",
    "better with right skewed or left skewed data or data having outliers"
   ]
  },
  {
   "cell_type": "code",
   "execution_count": 39,
   "id": "e14c46e5",
   "metadata": {},
   "outputs": [
    {
     "data": {
      "text/html": [
       "<div>\n",
       "<style scoped>\n",
       "    .dataframe tbody tr th:only-of-type {\n",
       "        vertical-align: middle;\n",
       "    }\n",
       "\n",
       "    .dataframe tbody tr th {\n",
       "        vertical-align: top;\n",
       "    }\n",
       "\n",
       "    .dataframe thead th {\n",
       "        text-align: right;\n",
       "    }\n",
       "</style>\n",
       "<table border=\"1\" class=\"dataframe\">\n",
       "  <thead>\n",
       "    <tr style=\"text-align: right;\">\n",
       "      <th></th>\n",
       "      <th>age</th>\n",
       "      <th>age mean</th>\n",
       "      <th>Age_median</th>\n",
       "    </tr>\n",
       "  </thead>\n",
       "  <tbody>\n",
       "    <tr>\n",
       "      <th>0</th>\n",
       "      <td>22.0</td>\n",
       "      <td>22.000000</td>\n",
       "      <td>22.0</td>\n",
       "    </tr>\n",
       "    <tr>\n",
       "      <th>1</th>\n",
       "      <td>38.0</td>\n",
       "      <td>38.000000</td>\n",
       "      <td>38.0</td>\n",
       "    </tr>\n",
       "    <tr>\n",
       "      <th>2</th>\n",
       "      <td>26.0</td>\n",
       "      <td>26.000000</td>\n",
       "      <td>26.0</td>\n",
       "    </tr>\n",
       "    <tr>\n",
       "      <th>3</th>\n",
       "      <td>35.0</td>\n",
       "      <td>35.000000</td>\n",
       "      <td>35.0</td>\n",
       "    </tr>\n",
       "    <tr>\n",
       "      <th>4</th>\n",
       "      <td>35.0</td>\n",
       "      <td>35.000000</td>\n",
       "      <td>35.0</td>\n",
       "    </tr>\n",
       "    <tr>\n",
       "      <th>...</th>\n",
       "      <td>...</td>\n",
       "      <td>...</td>\n",
       "      <td>...</td>\n",
       "    </tr>\n",
       "    <tr>\n",
       "      <th>886</th>\n",
       "      <td>27.0</td>\n",
       "      <td>27.000000</td>\n",
       "      <td>27.0</td>\n",
       "    </tr>\n",
       "    <tr>\n",
       "      <th>887</th>\n",
       "      <td>19.0</td>\n",
       "      <td>19.000000</td>\n",
       "      <td>19.0</td>\n",
       "    </tr>\n",
       "    <tr>\n",
       "      <th>888</th>\n",
       "      <td>NaN</td>\n",
       "      <td>29.699118</td>\n",
       "      <td>28.0</td>\n",
       "    </tr>\n",
       "    <tr>\n",
       "      <th>889</th>\n",
       "      <td>26.0</td>\n",
       "      <td>26.000000</td>\n",
       "      <td>26.0</td>\n",
       "    </tr>\n",
       "    <tr>\n",
       "      <th>890</th>\n",
       "      <td>32.0</td>\n",
       "      <td>32.000000</td>\n",
       "      <td>32.0</td>\n",
       "    </tr>\n",
       "  </tbody>\n",
       "</table>\n",
       "<p>891 rows × 3 columns</p>\n",
       "</div>"
      ],
      "text/plain": [
       "      age   age mean  Age_median\n",
       "0    22.0  22.000000        22.0\n",
       "1    38.0  38.000000        38.0\n",
       "2    26.0  26.000000        26.0\n",
       "3    35.0  35.000000        35.0\n",
       "4    35.0  35.000000        35.0\n",
       "..    ...        ...         ...\n",
       "886  27.0  27.000000        27.0\n",
       "887  19.0  19.000000        19.0\n",
       "888   NaN  29.699118        28.0\n",
       "889  26.0  26.000000        26.0\n",
       "890  32.0  32.000000        32.0\n",
       "\n",
       "[891 rows x 3 columns]"
      ]
     },
     "execution_count": 39,
     "metadata": {},
     "output_type": "execute_result"
    }
   ],
   "source": [
    "df['Age_median'] = df['age'].fillna(df['age'].median())\n",
    "df[['age','age mean', 'Age_median']]"
   ]
  },
  {
   "cell_type": "markdown",
   "id": "c84a9fd5",
   "metadata": {},
   "source": [
    "## 3- Mode imputation\n",
    " good for categorical data"
   ]
  },
  {
   "cell_type": "code",
   "execution_count": 41,
   "id": "2a9cd977",
   "metadata": {},
   "outputs": [
    {
     "data": {
      "text/plain": [
       "<Axes: xlabel='embarked', ylabel='count'>"
      ]
     },
     "execution_count": 41,
     "metadata": {},
     "output_type": "execute_result"
    },
    {
     "data": {
      "image/png": "[encoded data removed]",
      "text/plain": [
       "<Figure size 640x480 with 1 Axes>"
      ]
     },
     "metadata": {},
     "output_type": "display_data"
    }
   ],
   "source": [
    "df['embarked'].unique() # To check unique values in embarked column\n",
    "sns.countplot(data=df, x='embarked')"
   ]
  },
  {
   "cell_type": "code",
   "execution_count": null,
   "id": "dbcb1e27",
   "metadata": {},
   "outputs": [],
   "source": [
    "# mode_value = df['embarked'].mode()[0] # using [0] to get the first value of mode\n",
    "# df['embarked_mode'] = df['embarked'].fillna(mode_value)\n",
    "mode_value = df[df['embarked'].notna()]['embarked'].mode()[0] # here we are using notna() to get the mode of non-null values\n",
    "df['embarked_mode'] = df['embarked'].fillna(mode_value)\n"
   ]
  },
  {
   "cell_type": "code",
   "execution_count": 48,
   "id": "099bf8f6",
   "metadata": {},
   "outputs": [
    {
     "data": {
      "text/plain": [
       "embarked         2\n",
       "embarked_mode    0\n",
       "dtype: int64"
      ]
     },
     "execution_count": 48,
     "metadata": {},
     "output_type": "execute_result"
    }
   ],
   "source": [
    "df[['embarked', 'embarked_mode']].isnull().sum()"
   ]
  },
  {
   "cell_type": "markdown",
   "id": "7128624f",
   "metadata": {},
   "source": [
    "## How to configure imbalanced datasets"
   ]
  },
  {
   "cell_type": "code",
   "execution_count": 49,
   "id": "512f7179",
   "metadata": {},
   "outputs": [],
   "source": [
    "import numpy as np\n",
    "import pandas as pd"
   ]
  },
  {
   "cell_type": "code",
   "execution_count": 50,
   "id": "1e89b26f",
   "metadata": {},
   "outputs": [],
   "source": [
    "np.random.seed(10)\n",
    "\n",
    "# Create a DataFrame with two classes\n",
    "n_samples = 1000\n",
    "class_0_ratio = 0.9\n",
    "n_class_0 = int(n_samples*class_0_ratio)\n",
    "n_class_1 = n_samples - n_class_0"
   ]
  },
  {
   "cell_type": "code",
   "execution_count": 51,
   "id": "35f73550",
   "metadata": {},
   "outputs": [
    {
     "data": {
      "text/plain": [
       "(900, 100)"
      ]
     },
     "execution_count": 51,
     "metadata": {},
     "output_type": "execute_result"
    }
   ],
   "source": [
    "n_class_0,n_class_1"
   ]
  },
  {
   "cell_type": "code",
   "execution_count": 52,
   "id": "b2ba33b5",
   "metadata": {},
   "outputs": [],
   "source": [
    "# Create my dataframe with imbalanced dataset with binary target (0 and 1)\n",
    "class_0 = pd.DataFrame({\n",
    "    'feature_1' : np.random.normal(loc=0, scale=1, size=n_class_0),\n",
    "    'feature_2' : np.random.normal(loc=0, scale=1, size=n_class_0),\n",
    "    'target' : [0]*n_class_0\n",
    "    })\n",
    "\n",
    "class_1 = pd.DataFrame({\n",
    "    'feature_1' : np.random.normal(loc=2, scale=1, size=n_class_1),\n",
    "    'feature_2' : np.random.normal(loc=2, scale=1, size=n_class_1),\n",
    "    'target' : [1]*n_class_1\n",
    "    })"
   ]
  },
  {
   "cell_type": "code",
   "execution_count": 60,
   "id": "bcdc2958",
   "metadata": {},
   "outputs": [
    {
     "data": {
      "text/plain": [
       "target\n",
       "0    900\n",
       "1    100\n",
       "Name: count, dtype: int64"
      ]
     },
     "execution_count": 60,
     "metadata": {},
     "output_type": "execute_result"
    }
   ],
   "source": [
    "df = pd.concat([class_0, class_1]).reset_index(drop=True)\n",
    "df['target'].value_counts()"
   ]
  },
  {
   "cell_type": "markdown",
   "id": "255c9f2b",
   "metadata": {},
   "source": [
    "## 1- Upsampling"
   ]
  },
  {
   "cell_type": "code",
   "execution_count": 61,
   "id": "2bda0e5b",
   "metadata": {},
   "outputs": [],
   "source": [
    "df_minority = df[df['target']==1]\n",
    "df_majority = df[df['target']==0]\n",
    "# So in upsampling we will increase the number of minority class samples to match the majority class samples"
   ]
  },
  {
   "cell_type": "code",
   "execution_count": 62,
   "id": "4c2c550f",
   "metadata": {},
   "outputs": [],
   "source": [
    "from sklearn.utils import resample\n",
    "df_minority_upsampled = resample(df_minority, replace=True, # sample with replacement\n",
    "                                n_samples=len(df_majority), # to match majority class\n",
    "                                random_state=23 # for reproducible results\n",
    "                                )"
   ]
  },
  {
   "cell_type": "code",
   "execution_count": null,
   "id": "3166dd93",
   "metadata": {},
   "outputs": [
    {
     "data": {
      "text/plain": [
       "feature_1    900\n",
       "feature_2    900\n",
       "target       900\n",
       "dtype: int64"
      ]
     },
     "execution_count": 64,
     "metadata": {},
     "output_type": "execute_result"
    }
   ],
   "source": [
    "df_minority_upsampled.count() # Shows that the minority class has been upsampled to match the majority class"
   ]
  },
  {
   "cell_type": "code",
   "execution_count": 65,
   "id": "ed05d1e6",
   "metadata": {},
   "outputs": [],
   "source": [
    "df_resampled = pd.concat([df_majority, df_minority_upsampled])"
   ]
  },
  {
   "cell_type": "code",
   "execution_count": 68,
   "id": "189857bf",
   "metadata": {},
   "outputs": [
    {
     "data": {
      "text/plain": [
       "(1800,)"
      ]
     },
     "execution_count": 68,
     "metadata": {},
     "output_type": "execute_result"
    }
   ],
   "source": [
    "df_resampled['target'].shape"
   ]
  },
  {
   "cell_type": "markdown",
   "id": "b0cd8ada",
   "metadata": {},
   "source": [
    "## 2-Downsampling"
   ]
  },
  {
   "cell_type": "code",
   "execution_count": 69,
   "id": "f0b66ce8",
   "metadata": {},
   "outputs": [],
   "source": [
    "df_minority = df[df['target']==1]\n",
    "df_majority = df[df['target']==0]\n",
    "# So in downsampling we will decrease the number of majority class samples to match the minority class samples"
   ]
  },
  {
   "cell_type": "code",
   "execution_count": 72,
   "id": "230c8d19",
   "metadata": {},
   "outputs": [],
   "source": [
    "from sklearn.utils import resample\n",
    "df_majority_downsampled = resample(df_majority, replace=False, # sample without replacement\n",
    "                                    # to avoid removing all samples from majority class\n",
    "                                  n_samples=len(df_minority),\n",
    "                                  random_state=42 \n",
    "                                   )\n"
   ]
  },
  {
   "cell_type": "code",
   "execution_count": null,
   "id": "e72c8c47",
   "metadata": {},
   "outputs": [
    {
     "data": {
      "text/plain": [
       "target\n",
       "1    100\n",
       "0    100\n",
       "Name: count, dtype: int64"
      ]
     },
     "execution_count": 74,
     "metadata": {},
     "output_type": "execute_result"
    }
   ],
   "source": [
    "df_resampled = pd.concat([df_minority, df_majority_downsampled])\n",
    "df_resampled['target'].shape\n",
    "df_resampled.target.value_counts()\n",
    "# Down sampling reduces the number of datapoints which might lead to loss of information\n",
    "# Upsampling increases the number of datapoints which might lead to overfitting\n",
    "# So we can use SMOTE to create synthetic samples of the minority class\n",
    "# SMOTE is Synthetic Minority Over-sampling Technique\n",
    "# SMOTE is a technique that generates synthetic samples for the minority class by interpolating between existing samples\n",
    "# It helps to balance the dataset without losing information from the majority class"
   ]
  },
  {
   "cell_type": "markdown",
   "id": "50cc34b0",
   "metadata": {},
   "source": [
    "## Using SMOTE for creating synthetic samples of minority class"
   ]
  },
  {
   "cell_type": "code",
   "execution_count": 82,
   "id": "99e00ac8",
   "metadata": {},
   "outputs": [],
   "source": [
    "from sklearn.datasets import make_classification\n",
    "x,y = make_classification(n_samples=1000, n_features=2, n_clusters_per_class=1,n_redundant=0, weights=[0.90, 0.10], random_state=23)"
   ]
  },
  {
   "cell_type": "code",
   "execution_count": 83,
   "id": "b834a7d2",
   "metadata": {},
   "outputs": [],
   "source": [
    "import pandas as pd\n",
    "df1 = pd.DataFrame(x, columns=['f1','f2'])\n",
    "df2 = pd.DataFrame(y, columns=['target'])\n",
    "final_pd = pd.concat([df1,df2], axis=1)"
   ]
  },
  {
   "cell_type": "code",
   "execution_count": 86,
   "id": "30daf872",
   "metadata": {},
   "outputs": [
    {
     "data": {
      "text/plain": [
       "target\n",
       "0    898\n",
       "1    102\n",
       "Name: count, dtype: int64"
      ]
     },
     "execution_count": 86,
     "metadata": {},
     "output_type": "execute_result"
    }
   ],
   "source": [
    "final_pd.target.value_counts()"
   ]
  },
  {
   "cell_type": "code",
   "execution_count": 90,
   "id": "4e229400",
   "metadata": {},
   "outputs": [
    {
     "data": {
      "text/plain": [
       "<matplotlib.collections.PathCollection at 0x1b5b415a0e0>"
      ]
     },
     "execution_count": 90,
     "metadata": {},
     "output_type": "execute_result"
    },
    {
     "data": {
      "image/png": "[encoded data removed]",
      "text/plain": [
       "<Figure size 640x480 with 1 Axes>"
      ]
     },
     "metadata": {},
     "output_type": "display_data"
    }
   ],
   "source": [
    "import matplotlib.pyplot as plt\n",
    "plt.scatter(final_pd['f1'], final_pd['f2'], c=final_pd['target'] ,cmap='viridis' , s=20)"
   ]
  },
  {
   "cell_type": "code",
   "execution_count": 93,
   "id": "ff902dc7",
   "metadata": {},
   "outputs": [
    {
     "data": {
      "text/plain": [
       "((1796, 2), (1796,))"
      ]
     },
     "execution_count": 93,
     "metadata": {},
     "output_type": "execute_result"
    }
   ],
   "source": [
    "from imblearn.over_sampling import SMOTE\n",
    "# Transform the dataset using SMOTE\n",
    "oversample = SMOTE()\n",
    "x,y = oversample.fit_resample(final_pd[['f1', 'f2']], final_pd['target'])\n",
    "x.shape, y.shape"
   ]
  },
  {
   "cell_type": "code",
   "execution_count": 95,
   "id": "f6e1b30f",
   "metadata": {},
   "outputs": [
    {
     "data": {
      "text/plain": [
       "898"
      ]
     },
     "execution_count": 95,
     "metadata": {},
     "output_type": "execute_result"
    }
   ],
   "source": [
    "y[y==1].shape[0] # to check the number of samples in minority class after SMOTE\n",
    "# y[y==0].shape[0] # to check the number of samples in majority class after SMOTE"
   ]
  },
  {
   "cell_type": "code",
   "execution_count": 96,
   "id": "36f73122",
   "metadata": {},
   "outputs": [],
   "source": [
    "df1 = pd.DataFrame(x, columns=['f1','f2'])\n",
    "df2 = pd.DataFrame(y, columns=['target'])\n",
    "oversample_pd = pd.concat([df1,df2], axis=1)"
   ]
  },
  {
   "cell_type": "code",
   "execution_count": 97,
   "id": "26a58e9a",
   "metadata": {},
   "outputs": [
    {
     "data": {
      "text/plain": [
       "<matplotlib.collections.PathCollection at 0x1b5b447a470>"
      ]
     },
     "execution_count": 97,
     "metadata": {},
     "output_type": "execute_result"
    },
    {
     "data": {
      "image/png": "[encoded data removed]",
      "text/plain": [
       "<Figure size 640x480 with 1 Axes>"
      ]
     },
     "metadata": {},
     "output_type": "display_data"
    }
   ],
   "source": [
    "plt.scatter(oversample_pd['f1'], oversample_pd['f2'], c=oversample_pd['target'])"
   ]
  },
  {
   "cell_type": "markdown",
   "id": "546a6d68",
   "metadata": {},
   "source": [
    "## You can see that the minority class samples are now more evenly distributed and mostt datapoints were created where more datapoints were present.\n",
    "\n",
    "SMOTE is a powerful technique for handling imbalanced datasets, but it can also introduce noise and overfitting if not used carefully.\n",
    "\n",
    "It's important to evaluate the performance of your model using appropriate metrics, such as precision, recall,and    F1-score, especially when dealing with imbalanced datasets.\n",
    "\n",
    "In this notebook, we have covered the following:\n",
    "\n",
    " 1. Handling missing values using mean, median, and mode\n",
    "\n",
    " 2. Upsampling and downsampling techniques for imbalanced datasets\n",
    "\n",
    " 3. SMOTE technique for generating synthetic samples for the minority class\n",
    "\n",
    " 4. Visualizing the data using scatter plots\n",
    "\n",
    " 5. Evaluating the performance of your model using appropriate metrics\n",
    " \n",
    " 6. Importance of careful evaluation when dealing with imbalanced datasets\n"
   ]
  },
  {
   "cell_type": "markdown",
   "id": "08a7c489",
   "metadata": {},
   "source": [
    "## 5 number summary and Box Plot\n",
    "\n",
    "Minimun, Maximum, Median, Q1, Q3, IQR"
   ]
  },
  {
   "cell_type": "code",
   "execution_count": 5,
   "id": "2c73089e",
   "metadata": {},
   "outputs": [
    {
     "data": {
      "text/plain": [
       "array([59, 76, 75, 85, 88, 78, 86, 43, 40, 61], dtype=int32)"
      ]
     },
     "execution_count": 5,
     "metadata": {},
     "output_type": "execute_result"
    }
   ],
   "source": [
    "import numpy as np\n",
    "import random\n",
    "# Create a list of random integers between 40 and 100\n",
    "random.seed(10)\n",
    "lst_marks = np.random.randint(40, 100, size=10, dtype=int)\n",
    "lst_marks\n"
   ]
  },
  {
   "cell_type": "code",
   "execution_count": 9,
   "id": "71684a23",
   "metadata": {},
   "outputs": [],
   "source": [
    "minimum,Q1,median,Q3,maximum = np.quantile(lst_marks,[0,0.25,0.50,0.75,1])"
   ]
  },
  {
   "cell_type": "code",
   "execution_count": 16,
   "id": "bd451328",
   "metadata": {},
   "outputs": [
    {
     "data": {
      "text/plain": [
       "(np.float64(40.0),\n",
       " np.float64(59.5),\n",
       " np.float64(75.5),\n",
       " np.float64(83.25),\n",
       " np.float64(88.0))"
      ]
     },
     "execution_count": 16,
     "metadata": {},
     "output_type": "execute_result"
    }
   ],
   "source": [
    "minimum,Q1,median,Q3,maximum\n",
    "# IQR = Q3 - Q1\n",
    "# IQR\n"
   ]
  },
  {
   "cell_type": "code",
   "execution_count": 12,
   "id": "5a05decd",
   "metadata": {},
   "outputs": [],
   "source": [
    "# To check the outliers\n",
    "lower_fence = Q1 - 1.5*IQR\n",
    "upper_fence = Q3 + 1.5*IQR"
   ]
  },
  {
   "cell_type": "code",
   "execution_count": null,
   "id": "edfe65da",
   "metadata": {},
   "outputs": [
    {
     "data": {
      "text/plain": [
       "(np.float64(23.875), np.float64(118.875))"
      ]
     },
     "execution_count": 13,
     "metadata": {},
     "output_type": "execute_result"
    }
   ],
   "source": [
    "lower_fence, upper_fence\n",
    "# So any value below lower_fence or above upper_fence is an outlier"
   ]
  },
  {
   "cell_type": "code",
   "execution_count": null,
   "id": "701182d2",
   "metadata": {},
   "outputs": [
    {
     "data": {
      "text/plain": [
       "<Axes: >"
      ]
     },
     "execution_count": 15,
     "metadata": {},
     "output_type": "execute_result"
    },
    {
     "data": {
      "image/png": "[encoded data removed]",
      "text/plain": [
       "<Figure size 640x480 with 1 Axes>"
      ]
     },
     "metadata": {},
     "output_type": "display_data"
    }
   ],
   "source": [
    "# To check the outliers\n",
    "sns.boxplot(data=lst_marks, orient='v') # This will show the outliers in the boxplot\n",
    "# A boxplot shows the distribution of the data based on a five-number summary: minimum, first quartile (Q1), median, third quartile (Q3), and maximum.\n",
    "# The line inside the box represents the median, and the lines extending from the box (whiskers) represent the range of the data. Any points outside the whiskers are considered outliers.\n"
   ]
  },
  {
   "cell_type": "code",
   "execution_count": null,
   "id": "65553cf9",
   "metadata": {},
   "outputs": [
    {
     "data": {
      "text/plain": [
       "<Axes: >"
      ]
     },
     "execution_count": 25,
     "metadata": {},
     "output_type": "execute_result"
    },
    {
     "data": {
      "image/png": "[encoded data removed]",
      "text/plain": [
       "<Figure size 640x480 with 1 Axes>"
      ]
     },
     "metadata": {},
     "output_type": "display_data"
    }
   ],
   "source": [
    "# Lets do this using outliers\n",
    "lst_marks = np.array([200,59, 76, 75, 85, 88, 78, 86, 43, 40, 61,160, 70, 80, 90, 10])\n",
    "# To check the outliers\n",
    "sns.boxplot(data=lst_marks,orient='h', legend='auto')\n"
   ]
  },
  {
   "cell_type": "markdown",
   "id": "25cbd558",
   "metadata": {},
   "source": [
    "## DATA ENCODING\n",
    "\n",
    "1-Nominal/OHE(One Hot Encoding) Encoding"
   ]
  },
  {
   "cell_type": "markdown",
   "id": "f4cff819",
   "metadata": {},
   "source": [
    "\n",
    "💡 Why it's called Nominal Encoding?\n",
    "\n",
    "Because it's used for nominal (a.k.a. categorical) data—things that are names or labels without any order (like colors, cities, brands, etc.).\n",
    "\n",
    "example--let the categories be Red, Blue, Green. Machines (like machine learning models) don't understand words—they understand numbers. But if you just assign numbers like:\n",
    "\n",
    "Red = 1, Blue = 2, Green = 3\n",
    "\n",
    "The machine might think Green (3) is somehow more than Blue (2), which isn't true—colors are just different, not ranked.\n",
    "\n",
    "One-hot encoding fixes this by turning each category into its own column like this:\n",
    "\n",
    "Color_Red\tColor_Blue\tColor_Green\n",
    "1\t             0\t        0\n",
    "0\t             1\t        0\n",
    "0\t             0\t        1\n"
   ]
  },
  {
   "cell_type": "markdown",
   "id": "13e778d0",
   "metadata": {},
   "source": [
    "✅ Pros of One-Hot Encoding--\n",
    "\n",
    "1.) No Assumed Order-\n",
    "    It treats categories as equal and independent, which is perfect for nominal data (like color, city, etc.).\n",
    "\n",
    "2.) Model-Friendly-\n",
    "    Most machine learning models (like linear regression, decision trees, etc.) work well with OHE because it turns text into a clean numeric format.\n",
    "\n",
    "3.) Prevents Misinterpretation-\n",
    "    It avoids the risk of models wrongly thinking one category is bigger or smaller than another (like what might happen with label encoding).\n",
    "\n",
    "4.) Works Well for Few Categories-\n",
    "    If your categorical feature has just a few unique values, OHE works beautifully.\n",
    "\n",
    "\n",
    "\n",
    "\n",
    "❌ Cons of One-Hot Encoding\n",
    "\n",
    "1.) Curse of Dimensionality\n",
    "    If a feature has many categories (like country names or zip codes), OHE creates tons of new columns, which can slow down training and use a lot of memory.\n",
    "\n",
    "2.) Sparse Data\n",
    "    It creates mostly 0s in the resulting matrix (sparse matrix), which isn’t efficient unless your tools handle sparse data well.\n",
    "\n",
    "3.) Overfitting Risk\n",
    "    When the number of categories is high, models can overfit to the noise in each unique category.\n",
    "\n",
    "4.) Column Explosion in Multiple Features\n",
    "    If several categorical features are OHE’d, the number of total columns can blow up fast, making the dataset harder to manage.\n",
    "\n",
    "\n"
   ]
  },
  {
   "cell_type": "code",
   "execution_count": 26,
   "id": "dc0fbc3f",
   "metadata": {},
   "outputs": [],
   "source": [
    "import pandas as pd\n",
    "from sklearn.preprocessing import OneHotEncoder\n"
   ]
  },
  {
   "cell_type": "code",
   "execution_count": null,
   "id": "3afa565f",
   "metadata": {},
   "outputs": [
    {
     "data": {
      "text/html": [
       "<div>\n",
       "<style scoped>\n",
       "    .dataframe tbody tr th:only-of-type {\n",
       "        vertical-align: middle;\n",
       "    }\n",
       "\n",
       "    .dataframe tbody tr th {\n",
       "        vertical-align: top;\n",
       "    }\n",
       "\n",
       "    .dataframe thead th {\n",
       "        text-align: right;\n",
       "    }\n",
       "</style>\n",
       "<table border=\"1\" class=\"dataframe\">\n",
       "  <thead>\n",
       "    <tr style=\"text-align: right;\">\n",
       "      <th></th>\n",
       "      <th>color</th>\n",
       "    </tr>\n",
       "  </thead>\n",
       "  <tbody>\n",
       "    <tr>\n",
       "      <th>0</th>\n",
       "      <td>red</td>\n",
       "    </tr>\n",
       "    <tr>\n",
       "      <th>1</th>\n",
       "      <td>blue</td>\n",
       "    </tr>\n",
       "    <tr>\n",
       "      <th>2</th>\n",
       "      <td>green</td>\n",
       "    </tr>\n",
       "    <tr>\n",
       "      <th>3</th>\n",
       "      <td>blue</td>\n",
       "    </tr>\n",
       "    <tr>\n",
       "      <th>4</th>\n",
       "      <td>red</td>\n",
       "    </tr>\n",
       "  </tbody>\n",
       "</table>\n",
       "</div>"
      ],
      "text/plain": [
       "   color\n",
       "0    red\n",
       "1   blue\n",
       "2  green\n",
       "3   blue\n",
       "4    red"
      ]
     },
     "execution_count": 27,
     "metadata": {},
     "output_type": "execute_result"
    }
   ],
   "source": [
    "# Create a DataFrame with categorical data\n",
    "df = pd.DataFrame({'color':['red', 'blue', 'green', 'blue', 'red']})\n",
    "df"
   ]
  },
  {
   "cell_type": "code",
   "execution_count": 29,
   "id": "06d10ed7",
   "metadata": {},
   "outputs": [],
   "source": [
    "# Create an instance of OneHotEncoder\n",
    "encoder = OneHotEncoder() "
   ]
  },
  {
   "cell_type": "code",
   "execution_count": 31,
   "id": "35d182d9",
   "metadata": {},
   "outputs": [],
   "source": [
    "encoded = encoder.fit_transform(df[['color']]).toarray() # This will create a sparse matrix of the one-hot encoded values"
   ]
  },
  {
   "cell_type": "code",
   "execution_count": 32,
   "id": "3bff682c",
   "metadata": {},
   "outputs": [
    {
     "data": {
      "text/html": [
       "<div>\n",
       "<style scoped>\n",
       "    .dataframe tbody tr th:only-of-type {\n",
       "        vertical-align: middle;\n",
       "    }\n",
       "\n",
       "    .dataframe tbody tr th {\n",
       "        vertical-align: top;\n",
       "    }\n",
       "\n",
       "    .dataframe thead th {\n",
       "        text-align: right;\n",
       "    }\n",
       "</style>\n",
       "<table border=\"1\" class=\"dataframe\">\n",
       "  <thead>\n",
       "    <tr style=\"text-align: right;\">\n",
       "      <th></th>\n",
       "      <th>color_blue</th>\n",
       "      <th>color_green</th>\n",
       "      <th>color_red</th>\n",
       "    </tr>\n",
       "  </thead>\n",
       "  <tbody>\n",
       "    <tr>\n",
       "      <th>0</th>\n",
       "      <td>0.0</td>\n",
       "      <td>0.0</td>\n",
       "      <td>1.0</td>\n",
       "    </tr>\n",
       "    <tr>\n",
       "      <th>1</th>\n",
       "      <td>1.0</td>\n",
       "      <td>0.0</td>\n",
       "      <td>0.0</td>\n",
       "    </tr>\n",
       "    <tr>\n",
       "      <th>2</th>\n",
       "      <td>0.0</td>\n",
       "      <td>1.0</td>\n",
       "      <td>0.0</td>\n",
       "    </tr>\n",
       "    <tr>\n",
       "      <th>3</th>\n",
       "      <td>1.0</td>\n",
       "      <td>0.0</td>\n",
       "      <td>0.0</td>\n",
       "    </tr>\n",
       "    <tr>\n",
       "      <th>4</th>\n",
       "      <td>0.0</td>\n",
       "      <td>0.0</td>\n",
       "      <td>1.0</td>\n",
       "    </tr>\n",
       "  </tbody>\n",
       "</table>\n",
       "</div>"
      ],
      "text/plain": [
       "   color_blue  color_green  color_red\n",
       "0         0.0          0.0        1.0\n",
       "1         1.0          0.0        0.0\n",
       "2         0.0          1.0        0.0\n",
       "3         1.0          0.0        0.0\n",
       "4         0.0          0.0        1.0"
      ]
     },
     "execution_count": 32,
     "metadata": {},
     "output_type": "execute_result"
    }
   ],
   "source": [
    "# Convert the sparse matrix to a DataFrame\n",
    "encoded_df = pd.DataFrame(encoded, columns=encoder.get_feature_names_out(['color'])) # This will create a DataFrame with the one-hot encoded values\n",
    "encoded_df"
   ]
  },
  {
   "cell_type": "code",
   "execution_count": 33,
   "id": "d1ae963c",
   "metadata": {},
   "outputs": [
    {
     "data": {
      "text/html": [
       "<div>\n",
       "<style scoped>\n",
       "    .dataframe tbody tr th:only-of-type {\n",
       "        vertical-align: middle;\n",
       "    }\n",
       "\n",
       "    .dataframe tbody tr th {\n",
       "        vertical-align: top;\n",
       "    }\n",
       "\n",
       "    .dataframe thead th {\n",
       "        text-align: right;\n",
       "    }\n",
       "</style>\n",
       "<table border=\"1\" class=\"dataframe\">\n",
       "  <thead>\n",
       "    <tr style=\"text-align: right;\">\n",
       "      <th></th>\n",
       "      <th>color</th>\n",
       "      <th>color_blue</th>\n",
       "      <th>color_green</th>\n",
       "      <th>color_red</th>\n",
       "    </tr>\n",
       "  </thead>\n",
       "  <tbody>\n",
       "    <tr>\n",
       "      <th>0</th>\n",
       "      <td>red</td>\n",
       "      <td>0.0</td>\n",
       "      <td>0.0</td>\n",
       "      <td>1.0</td>\n",
       "    </tr>\n",
       "    <tr>\n",
       "      <th>1</th>\n",
       "      <td>blue</td>\n",
       "      <td>1.0</td>\n",
       "      <td>0.0</td>\n",
       "      <td>0.0</td>\n",
       "    </tr>\n",
       "    <tr>\n",
       "      <th>2</th>\n",
       "      <td>green</td>\n",
       "      <td>0.0</td>\n",
       "      <td>1.0</td>\n",
       "      <td>0.0</td>\n",
       "    </tr>\n",
       "    <tr>\n",
       "      <th>3</th>\n",
       "      <td>blue</td>\n",
       "      <td>1.0</td>\n",
       "      <td>0.0</td>\n",
       "      <td>0.0</td>\n",
       "    </tr>\n",
       "    <tr>\n",
       "      <th>4</th>\n",
       "      <td>red</td>\n",
       "      <td>0.0</td>\n",
       "      <td>0.0</td>\n",
       "      <td>1.0</td>\n",
       "    </tr>\n",
       "  </tbody>\n",
       "</table>\n",
       "</div>"
      ],
      "text/plain": [
       "   color  color_blue  color_green  color_red\n",
       "0    red         0.0          0.0        1.0\n",
       "1   blue         1.0          0.0        0.0\n",
       "2  green         0.0          1.0        0.0\n",
       "3   blue         1.0          0.0        0.0\n",
       "4    red         0.0          0.0        1.0"
      ]
     },
     "execution_count": 33,
     "metadata": {},
     "output_type": "execute_result"
    }
   ],
   "source": [
    "# Concatenate the original DataFrame with the one-hot encoded DataFrame\n",
    "df = pd.concat([df, encoded_df], axis=1) # This will concatenate the original DataFrame with the one-hot encoded DataFrame\n",
    "df"
   ]
  },
  {
   "cell_type": "code",
   "execution_count": 39,
   "id": "69401ac1",
   "metadata": {},
   "outputs": [
    {
     "name": "stderr",
     "output_type": "stream",
     "text": [
      "c:\\Users\\pc\\PycharmProjects\\PythonProject\\venv\\lib\\site-packages\\sklearn\\utils\\validation.py:2739: UserWarning: X does not have valid feature names, but OneHotEncoder was fitted with feature names\n",
      "  warnings.warn(\n"
     ]
    },
    {
     "data": {
      "text/plain": [
       "array([[0., 0., 1.]])"
      ]
     },
     "execution_count": 39,
     "metadata": {},
     "output_type": "execute_result"
    }
   ],
   "source": [
    "# For new data, we can use the same encoder to transform the new data\n",
    "new_data = pd.DataFrame({'color':['red', 'green']})\n",
    "new_data\n",
    "encoded_new = encoder.transform(new_data[['color']]).toarray() # This will create a sparse matrix of the one-hot encoded values for new data\n",
    "encoded_new_df = pd.DataFrame(encoded_new, columns=encoder.get_feature_names_out(['color'])) # This will create a DataFrame with the one-hot encoded values for new data\n",
    "encoded_new_df, encoded_new\n",
    "encoder.transform([['red']]).toarray() # This will create a sparse matrix of the one-hot encoded values for new data"
   ]
  },
  {
   "cell_type": "code",
   "execution_count": null,
   "id": "849b4132",
   "metadata": {},
   "outputs": [
    {
     "data": {
      "text/html": [
       "<div>\n",
       "<style scoped>\n",
       "    .dataframe tbody tr th:only-of-type {\n",
       "        vertical-align: middle;\n",
       "    }\n",
       "\n",
       "    .dataframe tbody tr th {\n",
       "        vertical-align: top;\n",
       "    }\n",
       "\n",
       "    .dataframe thead th {\n",
       "        text-align: right;\n",
       "    }\n",
       "</style>\n",
       "<table border=\"1\" class=\"dataframe\">\n",
       "  <thead>\n",
       "    <tr style=\"text-align: right;\">\n",
       "      <th></th>\n",
       "      <th>total_bill</th>\n",
       "      <th>tip</th>\n",
       "      <th>sex</th>\n",
       "      <th>smoker</th>\n",
       "      <th>day</th>\n",
       "      <th>time</th>\n",
       "      <th>size</th>\n",
       "    </tr>\n",
       "  </thead>\n",
       "  <tbody>\n",
       "    <tr>\n",
       "      <th>0</th>\n",
       "      <td>16.99</td>\n",
       "      <td>1.01</td>\n",
       "      <td>Female</td>\n",
       "      <td>No</td>\n",
       "      <td>Sun</td>\n",
       "      <td>Dinner</td>\n",
       "      <td>2</td>\n",
       "    </tr>\n",
       "    <tr>\n",
       "      <th>1</th>\n",
       "      <td>10.34</td>\n",
       "      <td>1.66</td>\n",
       "      <td>Male</td>\n",
       "      <td>No</td>\n",
       "      <td>Sun</td>\n",
       "      <td>Dinner</td>\n",
       "      <td>3</td>\n",
       "    </tr>\n",
       "    <tr>\n",
       "      <th>2</th>\n",
       "      <td>21.01</td>\n",
       "      <td>3.50</td>\n",
       "      <td>Male</td>\n",
       "      <td>No</td>\n",
       "      <td>Sun</td>\n",
       "      <td>Dinner</td>\n",
       "      <td>3</td>\n",
       "    </tr>\n",
       "    <tr>\n",
       "      <th>3</th>\n",
       "      <td>23.68</td>\n",
       "      <td>3.31</td>\n",
       "      <td>Male</td>\n",
       "      <td>No</td>\n",
       "      <td>Sun</td>\n",
       "      <td>Dinner</td>\n",
       "      <td>2</td>\n",
       "    </tr>\n",
       "    <tr>\n",
       "      <th>4</th>\n",
       "      <td>24.59</td>\n",
       "      <td>3.61</td>\n",
       "      <td>Female</td>\n",
       "      <td>No</td>\n",
       "      <td>Sun</td>\n",
       "      <td>Dinner</td>\n",
       "      <td>4</td>\n",
       "    </tr>\n",
       "  </tbody>\n",
       "</table>\n",
       "</div>"
      ],
      "text/plain": [
       "   total_bill   tip     sex smoker  day    time  size\n",
       "0       16.99  1.01  Female     No  Sun  Dinner     2\n",
       "1       10.34  1.66    Male     No  Sun  Dinner     3\n",
       "2       21.01  3.50    Male     No  Sun  Dinner     3\n",
       "3       23.68  3.31    Male     No  Sun  Dinner     2\n",
       "4       24.59  3.61  Female     No  Sun  Dinner     4"
      ]
     },
     "execution_count": 40,
     "metadata": {},
     "output_type": "execute_result"
    }
   ],
   "source": [
    "# Lets do an example with tips dataset\n",
    "import seaborn as sns\n",
    "data = sns.load_dataset('tips')\n",
    "data.head()"
   ]
  },
  {
   "cell_type": "code",
   "execution_count": 41,
   "id": "00cce5cf",
   "metadata": {},
   "outputs": [],
   "source": [
    "from sklearn.preprocessing import OneHotEncoder\n",
    "encoder = OneHotEncoder()"
   ]
  },
  {
   "cell_type": "code",
   "execution_count": 42,
   "id": "1d99f2b9",
   "metadata": {},
   "outputs": [
    {
     "data": {
      "text/plain": [
       "array([[1., 0., 1., ..., 0., 1., 0.],\n",
       "       [0., 1., 1., ..., 0., 1., 0.],\n",
       "       [0., 1., 1., ..., 0., 1., 0.],\n",
       "       ...,\n",
       "       [0., 1., 0., ..., 1., 0., 0.],\n",
       "       [0., 1., 1., ..., 1., 0., 0.],\n",
       "       [1., 0., 1., ..., 0., 0., 1.]], shape=(244, 8))"
      ]
     },
     "execution_count": 42,
     "metadata": {},
     "output_type": "execute_result"
    }
   ],
   "source": [
    "# To check the unique values in the dataset\n",
    "encoded = encoder.fit_transform(data[['sex', 'smoker', 'day']]).toarray() # This will create a sparse matrix of the one-hot encoded values\n",
    "encoded"
   ]
  },
  {
   "cell_type": "code",
   "execution_count": 44,
   "id": "8b0a4852",
   "metadata": {},
   "outputs": [
    {
     "data": {
      "text/html": [
       "<div>\n",
       "<style scoped>\n",
       "    .dataframe tbody tr th:only-of-type {\n",
       "        vertical-align: middle;\n",
       "    }\n",
       "\n",
       "    .dataframe tbody tr th {\n",
       "        vertical-align: top;\n",
       "    }\n",
       "\n",
       "    .dataframe thead th {\n",
       "        text-align: right;\n",
       "    }\n",
       "</style>\n",
       "<table border=\"1\" class=\"dataframe\">\n",
       "  <thead>\n",
       "    <tr style=\"text-align: right;\">\n",
       "      <th></th>\n",
       "      <th>sex_Female</th>\n",
       "      <th>sex_Male</th>\n",
       "      <th>smoker_No</th>\n",
       "      <th>smoker_Yes</th>\n",
       "      <th>day_Fri</th>\n",
       "      <th>day_Sat</th>\n",
       "      <th>day_Sun</th>\n",
       "      <th>day_Thur</th>\n",
       "    </tr>\n",
       "  </thead>\n",
       "  <tbody>\n",
       "    <tr>\n",
       "      <th>0</th>\n",
       "      <td>1.0</td>\n",
       "      <td>0.0</td>\n",
       "      <td>1.0</td>\n",
       "      <td>0.0</td>\n",
       "      <td>0.0</td>\n",
       "      <td>0.0</td>\n",
       "      <td>1.0</td>\n",
       "      <td>0.0</td>\n",
       "    </tr>\n",
       "    <tr>\n",
       "      <th>1</th>\n",
       "      <td>0.0</td>\n",
       "      <td>1.0</td>\n",
       "      <td>1.0</td>\n",
       "      <td>0.0</td>\n",
       "      <td>0.0</td>\n",
       "      <td>0.0</td>\n",
       "      <td>1.0</td>\n",
       "      <td>0.0</td>\n",
       "    </tr>\n",
       "    <tr>\n",
       "      <th>2</th>\n",
       "      <td>0.0</td>\n",
       "      <td>1.0</td>\n",
       "      <td>1.0</td>\n",
       "      <td>0.0</td>\n",
       "      <td>0.0</td>\n",
       "      <td>0.0</td>\n",
       "      <td>1.0</td>\n",
       "      <td>0.0</td>\n",
       "    </tr>\n",
       "    <tr>\n",
       "      <th>3</th>\n",
       "      <td>0.0</td>\n",
       "      <td>1.0</td>\n",
       "      <td>1.0</td>\n",
       "      <td>0.0</td>\n",
       "      <td>0.0</td>\n",
       "      <td>0.0</td>\n",
       "      <td>1.0</td>\n",
       "      <td>0.0</td>\n",
       "    </tr>\n",
       "    <tr>\n",
       "      <th>4</th>\n",
       "      <td>1.0</td>\n",
       "      <td>0.0</td>\n",
       "      <td>1.0</td>\n",
       "      <td>0.0</td>\n",
       "      <td>0.0</td>\n",
       "      <td>0.0</td>\n",
       "      <td>1.0</td>\n",
       "      <td>0.0</td>\n",
       "    </tr>\n",
       "    <tr>\n",
       "      <th>5</th>\n",
       "      <td>0.0</td>\n",
       "      <td>1.0</td>\n",
       "      <td>1.0</td>\n",
       "      <td>0.0</td>\n",
       "      <td>0.0</td>\n",
       "      <td>0.0</td>\n",
       "      <td>1.0</td>\n",
       "      <td>0.0</td>\n",
       "    </tr>\n",
       "    <tr>\n",
       "      <th>6</th>\n",
       "      <td>0.0</td>\n",
       "      <td>1.0</td>\n",
       "      <td>1.0</td>\n",
       "      <td>0.0</td>\n",
       "      <td>0.0</td>\n",
       "      <td>0.0</td>\n",
       "      <td>1.0</td>\n",
       "      <td>0.0</td>\n",
       "    </tr>\n",
       "    <tr>\n",
       "      <th>7</th>\n",
       "      <td>0.0</td>\n",
       "      <td>1.0</td>\n",
       "      <td>1.0</td>\n",
       "      <td>0.0</td>\n",
       "      <td>0.0</td>\n",
       "      <td>0.0</td>\n",
       "      <td>1.0</td>\n",
       "      <td>0.0</td>\n",
       "    </tr>\n",
       "    <tr>\n",
       "      <th>8</th>\n",
       "      <td>0.0</td>\n",
       "      <td>1.0</td>\n",
       "      <td>1.0</td>\n",
       "      <td>0.0</td>\n",
       "      <td>0.0</td>\n",
       "      <td>0.0</td>\n",
       "      <td>1.0</td>\n",
       "      <td>0.0</td>\n",
       "    </tr>\n",
       "    <tr>\n",
       "      <th>9</th>\n",
       "      <td>0.0</td>\n",
       "      <td>1.0</td>\n",
       "      <td>1.0</td>\n",
       "      <td>0.0</td>\n",
       "      <td>0.0</td>\n",
       "      <td>0.0</td>\n",
       "      <td>1.0</td>\n",
       "      <td>0.0</td>\n",
       "    </tr>\n",
       "  </tbody>\n",
       "</table>\n",
       "</div>"
      ],
      "text/plain": [
       "   sex_Female  sex_Male  smoker_No  smoker_Yes  day_Fri  day_Sat  day_Sun  \\\n",
       "0         1.0       0.0        1.0         0.0      0.0      0.0      1.0   \n",
       "1         0.0       1.0        1.0         0.0      0.0      0.0      1.0   \n",
       "2         0.0       1.0        1.0         0.0      0.0      0.0      1.0   \n",
       "3         0.0       1.0        1.0         0.0      0.0      0.0      1.0   \n",
       "4         1.0       0.0        1.0         0.0      0.0      0.0      1.0   \n",
       "5         0.0       1.0        1.0         0.0      0.0      0.0      1.0   \n",
       "6         0.0       1.0        1.0         0.0      0.0      0.0      1.0   \n",
       "7         0.0       1.0        1.0         0.0      0.0      0.0      1.0   \n",
       "8         0.0       1.0        1.0         0.0      0.0      0.0      1.0   \n",
       "9         0.0       1.0        1.0         0.0      0.0      0.0      1.0   \n",
       "\n",
       "   day_Thur  \n",
       "0       0.0  \n",
       "1       0.0  \n",
       "2       0.0  \n",
       "3       0.0  \n",
       "4       0.0  \n",
       "5       0.0  \n",
       "6       0.0  \n",
       "7       0.0  \n",
       "8       0.0  \n",
       "9       0.0  "
      ]
     },
     "execution_count": 44,
     "metadata": {},
     "output_type": "execute_result"
    }
   ],
   "source": [
    "encoded_df = pd.DataFrame(encoded, columns=encoder.get_feature_names_out())\n",
    "encoded_df.head(10)"
   ]
  },
  {
   "cell_type": "code",
   "execution_count": 49,
   "id": "1fd1e26c",
   "metadata": {},
   "outputs": [
    {
     "data": {
      "image/png": "[encoded data removed]",
      "text/plain": [
       "<Figure size 640x480 with 1 Axes>"
      ]
     },
     "metadata": {},
     "output_type": "display_data"
    }
   ],
   "source": [
    "import matplotlib.pyplot as plt\n",
    "\n",
    "# Plot count of entries per day (original data is better for this)\n",
    "sns.countplot(x='day', data=data)\n",
    "plt.title(\"Number of Entries per Day\")\n",
    "plt.show()\n"
   ]
  },
  {
   "cell_type": "markdown",
   "id": "b8212af8",
   "metadata": {},
   "source": [
    "## 2-Label Encoding?\n",
    "\n",
    "Label encoding converts categorical text data into numbers by assigning a unique number to each category."
   ]
  },
  {
   "cell_type": "markdown",
   "id": "4ab432eb",
   "metadata": {},
   "source": [
    "✅ Pros of Label Encoding:\n",
    "\n",
    "Very Simple & Fast-\n",
    "\n",
    "    Just one line of code, and memory-efficient.\n",
    "\n",
    "\n",
    "\n",
    "No New Columns-\n",
    "\n",
    "    Unlike One-Hot Encoding, it doesn’t create extra columns, which is great when dealing with high-cardinality data.\n",
    "\n",
    "\n",
    "\n",
    "Works Well with Tree-Based Models-\n",
    "\n",
    "    Algorithms like Decision Trees, Random Forests, and XGBoost don’t assume numerical order, so label encoding works fine.\n",
    "\n",
    "\n",
    "\n",
    "❌ Cons of Label Encoding:\n",
    "\n",
    "Implied Ordinal Relationship-\n",
    "\n",
    "    Assigning numbers introduces an artificial order (like Red=0, Blue=1, Green=2), which some models (like Linear Regression, Logistic Regression) may misinterpret as \"Green > Blue > Red\".\n",
    "\n",
    "\n",
    "\n",
    "Can Mislead Distance-Based Models-\n",
    "\n",
    "    Models like KNN or SVM may treat label differences as meaningful distances, which is wrong for unordered categories.\n",
    "\n",
    "\n",
    "\n",
    "Harder to Interpret-\n",
    "\n",
    "    Numbers don't tell you what the original category was unless you map them back."
   ]
  },
  {
   "cell_type": "code",
   "execution_count": 54,
   "id": "4e262ce5",
   "metadata": {},
   "outputs": [],
   "source": [
    "# Create a DataFrame with categorical data\n",
    "df = pd.DataFrame({'color':['red', 'blue', 'green', 'blue', 'red']})\n"
   ]
  },
  {
   "cell_type": "code",
   "execution_count": 55,
   "id": "eaa28a4b",
   "metadata": {},
   "outputs": [],
   "source": [
    "from sklearn.preprocessing import LabelEncoder\n",
    "# Create an instance of LabelEncoder\n",
    "le = LabelEncoder() \n",
    "# Fit and transform the data\n",
    "df['color_encoded'] = le.fit_transform(df['color']) # This will create a new column with the encoded values\n",
    "# df"
   ]
  },
  {
   "cell_type": "markdown",
   "id": "de3823e4",
   "metadata": {},
   "source": [
    "## Ordinal Encoding\n",
    "\n",
    "Ordinal Encoding assigns integers to categories that have a natural rank or order."
   ]
  },
  {
   "cell_type": "markdown",
   "id": "055abe34",
   "metadata": {},
   "source": [
    "✅ Pros of Ordinal Encoding:\n",
    "\n",
    "Captures Order-\n",
    "\n",
    "    Perfect for features with a natural order (e.g., size, rating, education level).\n",
    "\n",
    "Efficient-\n",
    "\n",
    "    Compact—only one new column. No explosion of dimensions like One-Hot.\n",
    "\n",
    "Works with Most Models-\n",
    "\n",
    "    Especially useful in models where order matters (e.g., tree-based, linear).\n",
    "\n",
    "❌ Cons of Ordinal Encoding:\n",
    "\n",
    "Dangerous If Misused-\n",
    "\n",
    "    If there's no real order (like cities or product names), using ordinal encoding may mislead models.\n",
    "\n",
    "Assumes Equal Spacing-\n",
    "\n",
    "    Some models assume the jump from 0→1 is equal to 1→2, which might not be true in reality (e.g., 'Small' to 'Medium' vs 'Medium' to 'Large').\n",
    "\n",
    "Harder with Non-Ordinal Data-\n",
    "\n",
    "    You'll have to define an artificial order, which may not reflect the truth."
   ]
  },
  {
   "cell_type": "code",
   "execution_count": null,
   "id": "5bae48f3",
   "metadata": {},
   "outputs": [],
   "source": [
    "from sklearn.preprocessing import OrdinalEncoder\n",
    "# Sample data\n",
    "df = pd.DataFrame({'Size': ['Small', 'Medium', 'Large', 'Medium', 'Small']})\n"
   ]
  },
  {
   "cell_type": "code",
   "execution_count": 65,
   "id": "a7cd66e1",
   "metadata": {},
   "outputs": [
    {
     "data": {
      "text/html": [
       "<div>\n",
       "<style scoped>\n",
       "    .dataframe tbody tr th:only-of-type {\n",
       "        vertical-align: middle;\n",
       "    }\n",
       "\n",
       "    .dataframe tbody tr th {\n",
       "        vertical-align: top;\n",
       "    }\n",
       "\n",
       "    .dataframe thead th {\n",
       "        text-align: right;\n",
       "    }\n",
       "</style>\n",
       "<table border=\"1\" class=\"dataframe\">\n",
       "  <thead>\n",
       "    <tr style=\"text-align: right;\">\n",
       "      <th></th>\n",
       "      <th>Size</th>\n",
       "      <th>size_encoded</th>\n",
       "    </tr>\n",
       "  </thead>\n",
       "  <tbody>\n",
       "    <tr>\n",
       "      <th>0</th>\n",
       "      <td>Small</td>\n",
       "      <td>0.0</td>\n",
       "    </tr>\n",
       "    <tr>\n",
       "      <th>1</th>\n",
       "      <td>Medium</td>\n",
       "      <td>1.0</td>\n",
       "    </tr>\n",
       "    <tr>\n",
       "      <th>2</th>\n",
       "      <td>Large</td>\n",
       "      <td>2.0</td>\n",
       "    </tr>\n",
       "    <tr>\n",
       "      <th>3</th>\n",
       "      <td>Medium</td>\n",
       "      <td>1.0</td>\n",
       "    </tr>\n",
       "    <tr>\n",
       "      <th>4</th>\n",
       "      <td>Small</td>\n",
       "      <td>0.0</td>\n",
       "    </tr>\n",
       "  </tbody>\n",
       "</table>\n",
       "</div>"
      ],
      "text/plain": [
       "     Size  size_encoded\n",
       "0   Small           0.0\n",
       "1  Medium           1.0\n",
       "2   Large           2.0\n",
       "3  Medium           1.0\n",
       "4   Small           0.0"
      ]
     },
     "execution_count": 65,
     "metadata": {},
     "output_type": "execute_result"
    }
   ],
   "source": [
    "# Create an instance of OrdinalEncoder\n",
    "# Ensure the categories in the OrdinalEncoder match the case of the values in the 'Size' column\n",
    "oe = OrdinalEncoder(categories=[['Small', 'Medium', 'Large']])  # Update categories to match the case\n",
    "\n",
    "# Fit and transform the data\n",
    "df['size_encoded'] = oe.fit_transform(df[['Size']])\n",
    "df"
   ]
  },
  {
   "cell_type": "code",
   "execution_count": 69,
   "id": "df9eac12",
   "metadata": {},
   "outputs": [
    {
     "name": "stderr",
     "output_type": "stream",
     "text": [
      "c:\\Users\\pc\\PycharmProjects\\PythonProject\\venv\\lib\\site-packages\\sklearn\\utils\\validation.py:2739: UserWarning: X does not have valid feature names, but OrdinalEncoder was fitted with feature names\n",
      "  warnings.warn(\n"
     ]
    },
    {
     "data": {
      "text/plain": [
       "array([[0.]])"
      ]
     },
     "execution_count": 69,
     "metadata": {},
     "output_type": "execute_result"
    }
   ],
   "source": [
    "# for new data, we can use the same encoder to transform the new data\n",
    "oe.transform([['Small']]) # This will create a sparse matrix of the one-hot encoded values for new data"
   ]
  },
  {
   "cell_type": "markdown",
   "id": "924919bf",
   "metadata": {},
   "source": [
    "## 3- Target Guided Ordinal Encoding\n",
    "\n",
    "Target Guided Ordinal Encoding assigns ranks to categories based on their relationship with the target variable.\n",
    "\n",
    "Instead of using arbitrary or manual order (like “Small < Medium < Large”), it uses the mean (or median) of the target for each category to define the order."
   ]
  },
  {
   "cell_type": "markdown",
   "id": "c439727f",
   "metadata": {},
   "source": [
    "✅ Pros of Target Guided Ordinal Encoding:\n",
    "\n",
    "Uses Target Info-\n",
    "\n",
    "    It captures the relationship between categorical features and the output—smarter than plain label/ordinal encoding.\n",
    "\n",
    "Reduces Noise-\n",
    "\n",
    "    It simplifies high-cardinality features without creating a bunch of columns.\n",
    "\n",
    "Efficient for Tree Models-\n",
    "\n",
    "    Trees benefit from these numeric splits along value thresholds.\n",
    "\n",
    "❌ Cons:\n",
    "\n",
    "Data Leakage Risk! 🚨-\n",
    "\n",
    "    If you compute the mean using all data (including test/validation), it leaks info from the target — so always compute using train set only.\n",
    "\n",
    "Not Useful for Classification without Clear Trends-\n",
    "\n",
    "    If categories don't have a clear impact on the target, it might add noise.\n",
    "\n",
    "Model-Dependent-\n",
    "\n",
    "    It works best when the model can handle ordered numerical inputs, e.g., trees or linear models with careful regularization.\n",
    "\n",
    "📌 Best Practices:\n",
    "\n",
    "    Always compute the mapping using only the training set.\n",
    "\n",
    "    For classification, use the mean of the probability or target class ratio.\n",
    "\n",
    "    For regression, use the mean/median of the target for each category.\n",
    "\n",
    "    For categories not seen during training (in test), handle with a default value (e.g., -1 or mean rank)."
   ]
  },
  {
   "cell_type": "code",
   "execution_count": 75,
   "id": "6c2cae30",
   "metadata": {},
   "outputs": [
    {
     "data": {
      "text/plain": [
       "{'Chennai': 250.0, 'Delhi': 350.0, 'Mumbai': 500.0}"
      ]
     },
     "execution_count": 75,
     "metadata": {},
     "output_type": "execute_result"
    }
   ],
   "source": [
    "df = pd.DataFrame({\n",
    "    'city': ['Delhi', 'Mumbai', 'Chennai', 'Delhi', 'Mumbai', 'Chennai', 'Delhi', 'Mumbai', 'Chennai'],\n",
    "    'cost': [300, 500, 200, 350, 450, 250, 400, 550, 300]\n",
    "})\n",
    "mean_price = df.groupby('city')['cost'].mean().to_dict() # This will group the data by city and calculate the mean cost for each city\n",
    "mean_price"
   ]
  },
  {
   "cell_type": "code",
   "execution_count": null,
   "id": "28be2119",
   "metadata": {},
   "outputs": [
    {
     "data": {
      "text/html": [
       "<div>\n",
       "<style scoped>\n",
       "    .dataframe tbody tr th:only-of-type {\n",
       "        vertical-align: middle;\n",
       "    }\n",
       "\n",
       "    .dataframe tbody tr th {\n",
       "        vertical-align: top;\n",
       "    }\n",
       "\n",
       "    .dataframe thead th {\n",
       "        text-align: right;\n",
       "    }\n",
       "</style>\n",
       "<table border=\"1\" class=\"dataframe\">\n",
       "  <thead>\n",
       "    <tr style=\"text-align: right;\">\n",
       "      <th></th>\n",
       "      <th>city</th>\n",
       "      <th>cost</th>\n",
       "      <th>city_encoded</th>\n",
       "    </tr>\n",
       "  </thead>\n",
       "  <tbody>\n",
       "    <tr>\n",
       "      <th>0</th>\n",
       "      <td>Delhi</td>\n",
       "      <td>300</td>\n",
       "      <td>350.0</td>\n",
       "    </tr>\n",
       "    <tr>\n",
       "      <th>1</th>\n",
       "      <td>Mumbai</td>\n",
       "      <td>500</td>\n",
       "      <td>500.0</td>\n",
       "    </tr>\n",
       "    <tr>\n",
       "      <th>2</th>\n",
       "      <td>Chennai</td>\n",
       "      <td>200</td>\n",
       "      <td>250.0</td>\n",
       "    </tr>\n",
       "    <tr>\n",
       "      <th>3</th>\n",
       "      <td>Delhi</td>\n",
       "      <td>350</td>\n",
       "      <td>350.0</td>\n",
       "    </tr>\n",
       "    <tr>\n",
       "      <th>4</th>\n",
       "      <td>Mumbai</td>\n",
       "      <td>450</td>\n",
       "      <td>500.0</td>\n",
       "    </tr>\n",
       "    <tr>\n",
       "      <th>5</th>\n",
       "      <td>Chennai</td>\n",
       "      <td>250</td>\n",
       "      <td>250.0</td>\n",
       "    </tr>\n",
       "    <tr>\n",
       "      <th>6</th>\n",
       "      <td>Delhi</td>\n",
       "      <td>400</td>\n",
       "      <td>350.0</td>\n",
       "    </tr>\n",
       "    <tr>\n",
       "      <th>7</th>\n",
       "      <td>Mumbai</td>\n",
       "      <td>550</td>\n",
       "      <td>500.0</td>\n",
       "    </tr>\n",
       "    <tr>\n",
       "      <th>8</th>\n",
       "      <td>Chennai</td>\n",
       "      <td>300</td>\n",
       "      <td>250.0</td>\n",
       "    </tr>\n",
       "  </tbody>\n",
       "</table>\n",
       "</div>"
      ],
      "text/plain": [
       "      city  cost  city_encoded\n",
       "0    Delhi   300         350.0\n",
       "1   Mumbai   500         500.0\n",
       "2  Chennai   200         250.0\n",
       "3    Delhi   350         350.0\n",
       "4   Mumbai   450         500.0\n",
       "5  Chennai   250         250.0\n",
       "6    Delhi   400         350.0\n",
       "7   Mumbai   550         500.0\n",
       "8  Chennai   300         250.0"
      ]
     },
     "execution_count": 76,
     "metadata": {},
     "output_type": "execute_result"
    }
   ],
   "source": [
    "# To use target guided ordinal encoding, we will replace the city names with the mean cost of each city\n",
    "df['city_encoded'] = df['city'].map(mean_price) # This will create a new column with the encoded values\n",
    "df\n",
    "# Using this i can give my model only cost and city_encoded column to train.\n",
    "# This will help the model to learn the relationship between city and cost and make predictions based on that relationship."
   ]
  },
  {
   "cell_type": "code",
   "execution_count": null,
   "id": "87241bb8",
   "metadata": {},
   "outputs": [],
   "source": []
  }
 ],
 "metadata": {
  "kernelspec": {
   "display_name": "Python 3",
   "language": "python",
   "name": "python3"
  },
  "language_info": {
   "codemirror_mode": {
    "name": "ipython",
    "version": 3
   },
   "file_extension": ".py",
   "mimetype": "text/x-python",
   "name": "python",
   "nbconvert_exporter": "python",
   "pygments_lexer": "ipython3",
   "version": "3.10.16"
  }
 },
 "nbformat": 4,
 "nbformat_minor": 5
}
