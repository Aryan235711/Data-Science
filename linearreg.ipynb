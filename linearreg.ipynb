{
 "cells": [
  {
   "cell_type": "code",
   "execution_count": 5,
   "metadata": {},
   "outputs": [],
   "source": [
    "import pandas as pd\n",
    "import numpy as np\n",
    "import matplotlib.pyplot as plt"
   ]
  },
  {
   "cell_type": "code",
   "execution_count": 7,
   "metadata": {},
   "outputs": [
    {
     "data": {
      "text/plain": [
       "2"
      ]
     },
     "execution_count": 7,
     "metadata": {},
     "output_type": "execute_result"
    }
   ],
   "source": [
    "1+1"
   ]
  },
  {
   "cell_type": "markdown",
   "metadata": {},
   "source": [
    "##Jupyter syntax and semantics"
   ]
  },
  {
   "cell_type": "code",
   "execution_count": 8,
   "metadata": {},
   "outputs": [
    {
     "name": "stdout",
     "output_type": "stream",
     "text": [
      "36\n"
     ]
    }
   ],
   "source": [
    "##Line continuation\n",
    "a = 1 + 2 + 3 + 4 + \\\n",
    "    5 + 6 + 7 + 8\n",
    "print(a)"
   ]
  },
  {
   "cell_type": "code",
   "execution_count": 10,
   "metadata": {},
   "outputs": [
    {
     "name": "stdout",
     "output_type": "stream",
     "text": [
      "3\n"
     ]
    }
   ],
   "source": [
    "##Multiple statements on a single line\n",
    "a = 1; b = 2; c = a+b\n",
    "print(c)"
   ]
  },
  {
   "cell_type": "code",
   "execution_count": 12,
   "metadata": {},
   "outputs": [
    {
     "name": "stdout",
     "output_type": "stream",
     "text": [
      "{'Test1': [95, 88, 79, 85], 'Test2': [92, 94, 78, 81]}\n"
     ]
    }
   ],
   "source": [
    "students = {'Name': ['John', 'Jane', 'Sue', 'Mary'],\n",
    "            'Test1': [95, 88, 79, 85],\n",
    "            'Test2': [92, 94, 78, 81]}\n",
    "del students['Name']\n",
    "print(students)"
   ]
  },
  {
   "cell_type": "code",
   "execution_count": 14,
   "metadata": {},
   "outputs": [
    {
     "name": "stdout",
     "output_type": "stream",
     "text": [
      "{1: 1, 2: 2, 3: 3, 4: 4}\n"
     ]
    }
   ],
   "source": [
    "ls = [1,2,2,3,3,3,4,4,4,4]\n",
    "frequency = {x:ls.count(x) for x in ls}\n",
    "print(frequency)"
   ]
  },
  {
   "cell_type": "code",
   "execution_count": 15,
   "metadata": {},
   "outputs": [
    {
     "name": "stdout",
     "output_type": "stream",
     "text": [
      "{1: 1, 2: 2, 3: 3, 4: 4}\n"
     ]
    }
   ],
   "source": [
    "ls = [1,2,2,3,3,3,4,4,4,4]\n",
    "freq = {}\n",
    "\n",
    "for i in ls:\n",
    "    if i in freq:\n",
    "        freq[i] += 1\n",
    "    else:\n",
    "        freq[i] = 1\n",
    "print(freq)"
   ]
  },
  {
   "cell_type": "code",
   "execution_count": 17,
   "metadata": {},
   "outputs": [
    {
     "name": "stdout",
     "output_type": "stream",
     "text": [
      "45\n"
     ]
    }
   ],
   "source": [
    "x= sum(i for i in range(10))\n",
    "print(x)"
   ]
  },
  {
   "cell_type": "code",
   "execution_count": 36,
   "metadata": {},
   "outputs": [
    {
     "name": "stdout",
     "output_type": "stream",
     "text": [
      "{'i': 2, 'am': 1, 'suraj': 2, 'aryan': 1, 'live': 1, 'in': 1, 'jharkhand': 1, 'is': 2, 'a': 2, 'good': 3, 'employee': 2, 'things': 1, 'come': 1, 'to': 1, 'those': 1, 'who': 1, 'stand': 1, 'word': 1}\n"
     ]
    }
   ],
   "source": [
    "def count_words(file_path):\n",
    "    word_count = {}\n",
    "    with open(file_path) as f:\n",
    "        for line in f:\n",
    "            words = line.split()\n",
    "            # print(words)\n",
    "            for word in words:\n",
    "                word = word.lower().strip('.,')\n",
    "                # print(word)\n",
    "\n",
    "                word_count[word] = word_count.get(word, 0) + 1\n",
    "                # print(word_count)\n",
    "    \n",
    "    return word_count\n",
    "\n",
    "\n",
    "if __name__ == '__main__':\n",
    "    word_frequency = count_words(file_path='sample.txt')\n",
    "    print(word_frequency)"
   ]
  },
  {
   "cell_type": "code",
   "execution_count": null,
   "metadata": {},
   "outputs": [
    {
     "name": "stdout",
     "output_type": "stream",
     "text": [
      "9\n",
      "[1, 1, 1]\n",
      "[4, 8, 16]\n",
      "[9, 27, 81]\n"
     ]
    }
   ],
   "source": [
    "func = [lambda x: x**2, lambda x: x**3, lambda x: x**4]\n",
    "func1 = lambda x: x**2\n",
    "##➡️ Assigns a function object to func1.\n",
    "##➡️ From that point onward, func1 behaves like a normal function.\n",
    "func1(3)\n",
    "##Similar to this code\n",
    "def func1(x):\n",
    "    return x**2\n",
    "print(func1(3))\n",
    "#or for func \n",
    "for i in range(1, 4):\n",
    "    value = list(map(lambda x:x(i), func))\n",
    "    #typecasting the map object to list\n",
    "    print(value)\n"
   ]
  },
  {
   "cell_type": "code",
   "execution_count": 33,
   "metadata": {},
   "outputs": [
    {
     "name": "stdout",
     "output_type": "stream",
     "text": [
      "['Suraj', 'Atul']\n"
     ]
    }
   ],
   "source": [
    "persons = [\n",
    "    {'name':'Suraj', 'age':23},\n",
    "    {'name':'Atul', 'age':22}\n",
    "]\n",
    "\n",
    "names =  list(map(lambda person:person['name'], persons))\n",
    "print(names)"
   ]
  },
  {
   "cell_type": "code",
   "execution_count": 37,
   "metadata": {},
   "outputs": [
    {
     "data": {
      "text/plain": [
       "'c:\\\\Users\\\\pc\\\\PycharmProjects\\\\PythonProject'"
      ]
     },
     "execution_count": 37,
     "metadata": {},
     "output_type": "execute_result"
    }
   ],
   "source": [
    "import os\n",
    "os.getcwd()"
   ]
  },
  {
   "cell_type": "code",
   "execution_count": 38,
   "metadata": {},
   "outputs": [],
   "source": [
    "directory = 'Pakage'\n",
    "os.mkdir(directory)"
   ]
  },
  {
   "cell_type": "code",
   "execution_count": null,
   "metadata": {},
   "outputs": [
    {
     "name": "stdout",
     "output_type": "stream",
     "text": [
      "1500\n",
      "1300\n"
     ]
    }
   ],
   "source": [
    "class BankAcc:\n",
    "    def __init__(self, name, balance=0):\n",
    "        self.name = name\n",
    "        self.balance = balance\n",
    "    \n",
    "    def deposit(self,amount):\n",
    "        self.balance += amount\n",
    "        return self.balance\n",
    "    \n",
    "    def withdraw(self,amount):\n",
    "        if amount > self.balance:\n",
    "            print('Insufficient balance')\n",
    "        else:\n",
    "            self.balance -= amount\n",
    "        return self.balance\n",
    "    \n",
    "    def get_balance(self):\n",
    "        return self.balance\n",
    "    \n",
    "if __name__ == '__main__':\n",
    "    person1 = BankAcc(\"Suraj\", 1000)\n",
    "    print(person1.deposit(500))\n",
    "    print(person1.withdraw(200))"
   ]
  },
  {
   "cell_type": "code",
   "execution_count": null,
   "metadata": {},
   "outputs": [],
   "source": []
  },
  {
   "cell_type": "markdown",
   "metadata": {},
   "source": [
    "#### Dunder methods(Double underscore methods)\n",
    "\n",
    "    1️⃣ Python sees num1 + num2.\n",
    "    2️⃣ It realizes that num1 is an instance of ComplexNumbers.\n",
    "    3️⃣ Since the ComplexNumbers class has a special method called __add__, Python calls it like this:\n",
    "    num1.__add__(num2)\n",
    "\n",
    "    4️⃣ Inside the __add__() method:\n",
    "\n",
    "    The parameter self automatically refers to the object that called the method → num1\n",
    "    The parameter other automatically refers to the object passed to the method → num2"
   ]
  },
  {
   "cell_type": "code",
   "execution_count": 55,
   "metadata": {},
   "outputs": [
    {
     "name": "stdout",
     "output_type": "stream",
     "text": [
      "The complex number is 8 + 10i\n"
     ]
    }
   ],
   "source": [
    "class ComplexNumbers:\n",
    "    def __init__(self,real,img):\n",
    "        self.real = real\n",
    "        self.img = img\n",
    "\n",
    "    def __add__(self,other):\n",
    "        return ComplexNumbers(self.real + other.real, self.img + other.img)\n",
    "    \n",
    "    def __repr__(self):\n",
    "        return f'The complex number is {self.real} + {self.img}i'\n",
    "    \n",
    "num1 = ComplexNumbers(3,4)\n",
    "num2 = ComplexNumbers(5,6)\n",
    "print(num1 + num2)"
   ]
  },
  {
   "cell_type": "markdown",
   "metadata": {},
   "source": [
    "#### Decorators\n",
    "🔹 How *args and **kwargs Work:\n",
    "*args → Captures any number of positional arguments as a tuple.\n",
    "**kwargs → Captures any number of keyword arguments as a dictionary.\n",
    "\n",
    "Together, they ensure the decorator can handle any function with any argument structure — no matter how complex."
   ]
  },
  {
   "cell_type": "code",
   "execution_count": null,
   "metadata": {},
   "outputs": [],
   "source": [
    "def repeat(n):\n",
    "    def decorator(func):\n",
    "        def wrapper(*args, **kwargs):\n",
    "            for _ in range(n):\n",
    "                value = func(*args, **kwargs)#args and kwargs are used to pass any kind of arguments to the function\n",
    "            return value\n",
    "        return wrapper\n",
    "    return decorator    \n",
    "\n",
    "@repeat(n=3)#since repeat is called before the greet function it will be executed first\n",
    "def greet(name):\n",
    "    print(f'Hello {name}')\n",
    "\n",
    "greet('Suraj') #Here greet is changed to wrapper function"
   ]
  },
  {
   "cell_type": "markdown",
   "metadata": {},
   "source": [
    "#### \n",
    "🔍 Steps: What Happens Step by Step\n",
    "\n",
    "1️⃣ @repeat(3) runs first\n",
    "\n",
    "Since @repeat(3) is above greet(), this runs before greet() is defined.\n",
    "repeat(3) returns the decorator function.\n",
    "\n",
    "2️⃣ decorator(greet) runs next\n",
    "\n",
    "This calls the decorator function and passes greet() as the func argument.\n",
    "Inside decorator, it returns the wrapper function.\n",
    "\n",
    "3️⃣ greet is now replaced by wrapper\n",
    "\n",
    "At this point, greet is no longer the original function — instead, it's now pointing to the wrapper function.\n"
   ]
  },
  {
   "cell_type": "code",
   "execution_count": null,
   "metadata": {},
   "outputs": [],
   "source": []
  }
 ],
 "metadata": {
  "kernelspec": {
   "display_name": "Python 3",
   "language": "python",
   "name": "python3"
  },
  "language_info": {
   "codemirror_mode": {
    "name": "ipython",
    "version": 3
   },
   "file_extension": ".py",
   "mimetype": "text/x-python",
   "name": "python",
   "nbconvert_exporter": "python",
   "pygments_lexer": "ipython3",
   "version": "3.10.16"
  }
 },
 "nbformat": 4,
 "nbformat_minor": 2
}
