{
 "cells": [
  {
   "cell_type": "markdown",
   "metadata": {},
   "source": [
    "# SQL\n"
   ]
  },
  {
   "cell_type": "markdown",
   "metadata": {},
   "source": []
  },
  {
   "cell_type": "code",
   "execution_count": 2,
   "metadata": {},
   "outputs": [],
   "source": [
    "import sqlite3 #Inbuilt \n"
   ]
  },
  {
   "cell_type": "code",
   "execution_count": 4,
   "metadata": {},
   "outputs": [
    {
     "data": {
      "text/plain": [
       "<sqlite3.Connection at 0x1f7557acd40>"
      ]
     },
     "execution_count": 4,
     "metadata": {},
     "output_type": "execute_result"
    }
   ],
   "source": [
    "# Connect to a SQLite database\n",
    "connect =  sqlite3.connect('example.db')\n",
    "connect"
   ]
  },
  {
   "cell_type": "code",
   "execution_count": 12,
   "metadata": {},
   "outputs": [],
   "source": [
    "# Create a cursor\n",
    "cursor = connect.cursor()\n",
    "\n",
    "# Create a table\n",
    "\n",
    "cursor.execute('''\n",
    "Create Table If not Exists employee(\n",
    "               id Integer Primary key,\n",
    "               name Text Not Null,\n",
    "               age Integer,\n",
    "               deapartment text\n",
    "               )\n",
    "''')\n",
    "\n",
    "# Commit the changes\n",
    "connect.commit()\n",
    "\n",
    "# Inserting values in sqlite table\n",
    "\n",
    "cursor.execute('''\n",
    "    INSERT INTO employee(name,age,deapartment)\n",
    "               values('Suraj', 23, 'Data Scientist')\n",
    "''')\n",
    "\n",
    "cursor.execute('''\n",
    "    INSERT INTO employee(name,age,deapartment)\n",
    "               values('Satyam', 20, 'Data Analyst')\n",
    "''')\n",
    "\n",
    "cursor.execute('''\n",
    "    INSERT INTO employee(name,age,deapartment)\n",
    "               values('Subham', 24, 'Scientist')\n",
    "''')\n",
    "\n",
    "connect.commit()"
   ]
  },
  {
   "cell_type": "code",
   "execution_count": 22,
   "metadata": {},
   "outputs": [],
   "source": [
    "# Query the data from sqllite table\n",
    "\n",
    "cursor.execute('''Select * from employee''')\n",
    "rows = cursor.fetchall()\n",
    "import pandas as pd\n",
    "df = pd.DataFrame(rows)"
   ]
  },
  {
   "cell_type": "code",
   "execution_count": null,
   "metadata": {},
   "outputs": [
    {
     "ename": "ProgrammingError",
     "evalue": "Cannot operate on a closed database.",
     "output_type": "error",
     "traceback": [
      "\u001b[1;31m---------------------------------------------------------------------------\u001b[0m",
      "\u001b[1;31mProgrammingError\u001b[0m                          Traceback (most recent call last)",
      "Cell \u001b[1;32mIn[36], line 2\u001b[0m\n\u001b[0;32m      1\u001b[0m \u001b[38;5;66;03m# To update any value in the table\u001b[39;00m\n\u001b[1;32m----> 2\u001b[0m \u001b[43mcursor\u001b[49m\u001b[38;5;241;43m.\u001b[39;49m\u001b[43mexecute\u001b[49m\u001b[43m(\u001b[49m\u001b[38;5;124;43m'''\u001b[39;49m\n\u001b[0;32m      3\u001b[0m \u001b[38;5;124;43mUPDATE employee\u001b[39;49m\n\u001b[0;32m      4\u001b[0m \u001b[38;5;124;43m            Set age = 27\u001b[39;49m\n\u001b[0;32m      5\u001b[0m \u001b[38;5;124;43m            where name = \u001b[39;49m\u001b[38;5;124;43m'\u001b[39;49m\u001b[38;5;124;43mSuraj\u001b[39;49m\u001b[38;5;124;43m'\u001b[39;49m\u001b[38;5;124;43m   \u001b[39;49m\n\u001b[0;32m      6\u001b[0m \u001b[38;5;124;43m'''\u001b[39;49m\u001b[43m)\u001b[49m\n\u001b[0;32m      7\u001b[0m connect\u001b[38;5;241m.\u001b[39mcommit()\n\u001b[0;32m      8\u001b[0m df\u001b[38;5;241m.\u001b[39mset_index(\u001b[38;5;241m0\u001b[39m)\n",
      "\u001b[1;31mProgrammingError\u001b[0m: Cannot operate on a closed database."
     ]
    }
   ],
   "source": [
    "# To update any value in the table\n",
    "cursor.execute('''\n",
    "UPDATE employee\n",
    "            Set age = 27\n",
    "            where name = 'Suraj'   \n",
    "''')\n",
    "connect.commit()\n",
    "df"
   ]
  },
  {
   "cell_type": "code",
   "execution_count": null,
   "metadata": {},
   "outputs": [],
   "source": [
    "# Delete from the table\n",
    "cursor.execute('''\n",
    "DELETE FROM employee\n",
    "               name = 'Suraj'\n",
    "''')\n",
    "connect.commit()\n"
   ]
  },
  {
   "cell_type": "code",
   "execution_count": 33,
   "metadata": {},
   "outputs": [],
   "source": [
    "# Insert data in bulk\n",
    "new_emp = [\n",
    "    ('Rohan', 23, 'ML engineer'),\n",
    "    ('Tushar', 56, 'Sales dept.'),\n",
    "    ('Sangeeta', 47, 'HR')\n",
    "]\n",
    "\n",
    "# Here we will use executemany function\n",
    "cursor.executemany('''\n",
    "    INSERT INTO employee(name,age,deapartment)\n",
    "               values(?, ?,  ?)\n",
    "''', new_emp)\n",
    "\n",
    "connect.commit()\n",
    "\n"
   ]
  },
  {
   "cell_type": "code",
   "execution_count": null,
   "metadata": {},
   "outputs": [
    {
     "data": {
      "text/plain": [
       "<sqlite3.Cursor at 0x1f755b913c0>"
      ]
     },
     "execution_count": 34,
     "metadata": {},
     "output_type": "execute_result"
    }
   ],
   "source": [
    "cursor.execute('''Select * from employee''')\n",
    "rows = cursor.fetchall()\n",
    "import pandas as pd\n",
    "df = pd.DataFrame(rows)\n",
    "df"
   ]
  },
  {
   "cell_type": "code",
   "execution_count": 35,
   "metadata": {},
   "outputs": [],
   "source": [
    "# To close the db connection\n",
    "\n",
    "connect.close()"
   ]
  },
  {
   "cell_type": "code",
   "execution_count": null,
   "metadata": {},
   "outputs": [],
   "source": []
  }
 ],
 "metadata": {
  "kernelspec": {
   "display_name": "Python 3",
   "language": "python",
   "name": "python3"
  },
  "language_info": {
   "codemirror_mode": {
    "name": "ipython",
    "version": 3
   },
   "file_extension": ".py",
   "mimetype": "text/x-python",
   "name": "python",
   "nbconvert_exporter": "python",
   "pygments_lexer": "ipython3",
   "version": "3.10.16"
  }
 },
 "nbformat": 4,
 "nbformat_minor": 2
}
