{
 "cells": [
  {
   "cell_type": "markdown",
   "metadata": {},
   "source": [
    "# Memory Management"
   ]
  },
  {
   "cell_type": "code",
   "execution_count": 8,
   "metadata": {},
   "outputs": [
    {
     "name": "stdout",
     "output_type": "stream",
     "text": [
      "2\n"
     ]
    }
   ],
   "source": [
    "#   Refrence counting\n",
    "import sys\n",
    "\n",
    "a = []\n",
    "print(sys.getrefcount(a))\n",
    "\n",
    "# Here we will get 2 as the response because one reference is coming from a which is a list and another is from the getrefcount()\n",
    "\n",
    "b = a"
   ]
  },
  {
   "cell_type": "code",
   "execution_count": 9,
   "metadata": {},
   "outputs": [
    {
     "name": "stdout",
     "output_type": "stream",
     "text": [
      "3\n"
     ]
    }
   ],
   "source": [
    "# del b\n",
    "print(sys.getrefcount(a))\n",
    "# Here we got 2 because memory of b is deallocated after its deletion"
   ]
  },
  {
   "cell_type": "markdown",
   "metadata": {},
   "source": [
    "# Garbage collection"
   ]
  },
  {
   "cell_type": "code",
   "execution_count": 10,
   "metadata": {},
   "outputs": [
    {
     "data": {
      "text/plain": [
       "982"
      ]
     },
     "execution_count": 10,
     "metadata": {},
     "output_type": "execute_result"
    }
   ],
   "source": [
    "import gc\n",
    "\n",
    "# Enable garbage collector\n",
    "gc.enable()\n",
    "\n",
    "# Disable gc\n",
    "gc.disable()\n",
    "\n",
    "# To manually collect garbage\n",
    "gc.collect()"
   ]
  },
  {
   "cell_type": "code",
   "execution_count": 11,
   "metadata": {},
   "outputs": [
    {
     "name": "stdout",
     "output_type": "stream",
     "text": [
      "[{'collections': 241, 'collected': 2297, 'uncollectable': 0}, {'collections': 21, 'collected': 486, 'uncollectable': 0}, {'collections': 2, 'collected': 1010, 'uncollectable': 0}]\n"
     ]
    }
   ],
   "source": [
    "# Get garbage collection stats\n",
    "print(gc.get_stats())"
   ]
  },
  {
   "cell_type": "code",
   "execution_count": 13,
   "metadata": {},
   "outputs": [
    {
     "name": "stdout",
     "output_type": "stream",
     "text": [
      "[]\n"
     ]
    }
   ],
   "source": [
    "# Get unreachable garbage\n",
    "print(gc.garbage)"
   ]
  },
  {
   "cell_type": "code",
   "execution_count": 15,
   "metadata": {},
   "outputs": [
    {
     "name": "stdout",
     "output_type": "stream",
     "text": [
      "Obj1 is my name.\n",
      "Obj2 is my name.\n",
      "Obj1 is deleted.\n",
      "Obj2 is deleted.\n",
      "Obj1 is deleted.\n",
      "Obj2 is deleted.\n"
     ]
    },
    {
     "data": {
      "text/plain": [
       "1145"
      ]
     },
     "execution_count": 15,
     "metadata": {},
     "output_type": "execute_result"
    }
   ],
   "source": [
    "import gc\n",
    "\n",
    "class MyObject:\n",
    "    def __init__(self, name):\n",
    "        self.name = name\n",
    "        print(f'{self.name} is my name.')\n",
    "\n",
    "    def __del__(self):\n",
    "        print(f'{self.name} is deleted.')\n",
    "\n",
    "# Create circular reference\n",
    "\n",
    "obj1 = MyObject(\"Obj1\")\n",
    "obj2 = MyObject(\"Obj2\")\n",
    "\n",
    "obj1.ref = obj2\n",
    "obj2.ref = obj1\n",
    "\n",
    "del obj1\n",
    "del obj2\n",
    "\n",
    "#This will not delete the objects created because of circular reference sowe have to manually deallocate it\n",
    "\n",
    "gc.collect()"
   ]
  },
  {
   "cell_type": "code",
   "execution_count": 16,
   "metadata": {},
   "outputs": [
    {
     "name": "stdout",
     "output_type": "stream",
     "text": [
      "['Top 10']\n",
      "C:\\Users\\pc\\AppData\\Local\\Temp\\ipykernel_7520\\3553670147.py:13: size=416 B, count=1, average=416 B\n",
      "C:\\Users\\pc\\AppData\\Local\\Temp\\ipykernel_7520\\3553670147.py:6: size=416 B, count=1, average=416 B\n",
      "C:\\Users\\pc\\AppData\\Local\\Temp\\ipykernel_7520\\3553670147.py:11: size=400 B, count=1, average=400 B\n"
     ]
    }
   ],
   "source": [
    "# Profiling memory usage with tracemalloc\n",
    "\n",
    "import tracemalloc\n",
    "\n",
    "def create_list():\n",
    "    return [i for i in range(1000)]\n",
    "\n",
    "def main():\n",
    "    tracemalloc.start()\n",
    "\n",
    "    create_list()\n",
    "\n",
    "    snapshot = tracemalloc.take_snapshot()\n",
    "    top_stats = snapshot.statistics('lineno')\n",
    "\n",
    "    print(['Top 10'])\n",
    "    for stat in top_stats[:10]:\n",
    "        print(stat)\n",
    "\n",
    "if __name__=='__main__':\n",
    "    main()"
   ]
  },
  {
   "cell_type": "code",
   "execution_count": null,
   "metadata": {},
   "outputs": [],
   "source": []
  }
 ],
 "metadata": {
  "kernelspec": {
   "display_name": "Python 3",
   "language": "python",
   "name": "python3"
  },
  "language_info": {
   "codemirror_mode": {
    "name": "ipython",
    "version": 3
   },
   "file_extension": ".py",
   "mimetype": "text/x-python",
   "name": "python",
   "nbconvert_exporter": "python",
   "pygments_lexer": "ipython3",
   "version": "3.10.16"
  }
 },
 "nbformat": 4,
 "nbformat_minor": 2
}
