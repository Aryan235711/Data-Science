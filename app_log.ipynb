{
 "cells": [
  {
   "cell_type": "code",
   "execution_count": 1,
   "metadata": {},
   "outputs": [],
   "source": [
    "import logging\n",
    "\n",
    "logging.basicConfig(\n",
    "    level=logging.DEBUG,\n",
    "    format='%(asctime)s - %(levelname)s - %(message)s',  \n",
    "    datefmt='%y-%m-%d %H:%M:%S',\\\n",
    "    handlers=[\n",
    "        logging.FileHandler('app1.log'),\n",
    "        logging.StreamHandler()\n",
    "    ]\n",
    ")\n",
    "\n",
    "logger = logging.getLogger('Arithmatic_app')\n",
    "\n",
    "def add(a,b):\n",
    "    result = a+b\n",
    "    logger.debug(f'The sum of {a} and {b} is-{result}')\n",
    "    return result \n",
    "\n",
    "def diff(a,b):\n",
    "    result = a-b\n",
    "    logger.debug(f'The difference of {a} and {b} is-{result}')\n",
    "    return result \n",
    "\n",
    "def mul(a,b):\n",
    "    result = a*b\n",
    "    logger.debug(f'The product of {a} and {b} is-{result}')\n",
    "    return result \n",
    "\n",
    "def div(a,b):\n",
    "    try:\n",
    "        result = a/b\n",
    "        logger.debug(f'The division of {a} and {b} is-{result}')\n",
    "        return result \n",
    "    except ZeroDivisionError:\n",
    "        logger.error('Cannot divide from 0')\n",
    "        return None\n",
    "    \n"
   ]
  },
  {
   "cell_type": "code",
   "execution_count": 2,
   "metadata": {},
   "outputs": [
    {
     "name": "stderr",
     "output_type": "stream",
     "text": [
      "25-03-16 16:04:31 - DEBUG - The sum of 3 and 4 is-7\n",
      "25-03-16 16:04:31 - DEBUG - The difference of 5 and 1 is-4\n",
      "25-03-16 16:04:31 - DEBUG - The product of 2 and 3 is-6\n",
      "25-03-16 16:04:31 - DEBUG - The division of 1 and 5 is-0.2\n"
     ]
    },
    {
     "data": {
      "text/plain": [
       "0.2"
      ]
     },
     "execution_count": 2,
     "metadata": {},
     "output_type": "execute_result"
    }
   ],
   "source": [
    "add(3,4)\n",
    "diff(5,1)\n",
    "mul(2,3)\n",
    "div(1,5)"
   ]
  },
  {
   "cell_type": "code",
   "execution_count": 3,
   "metadata": {},
   "outputs": [
    {
     "name": "stderr",
     "output_type": "stream",
     "text": [
      "25-03-16 16:06:15 - ERROR - Cannot divide from 0\n"
     ]
    }
   ],
   "source": [
    "div(2,0)"
   ]
  },
  {
   "cell_type": "code",
   "execution_count": null,
   "metadata": {},
   "outputs": [],
   "source": []
  }
 ],
 "metadata": {
  "kernelspec": {
   "display_name": "Python 3",
   "language": "python",
   "name": "python3"
  },
  "language_info": {
   "codemirror_mode": {
    "name": "ipython",
    "version": 3
   },
   "file_extension": ".py",
   "mimetype": "text/x-python",
   "name": "python",
   "nbconvert_exporter": "python",
   "pygments_lexer": "ipython3",
   "version": "3.10.16"
  }
 },
 "nbformat": 4,
 "nbformat_minor": 2
}
